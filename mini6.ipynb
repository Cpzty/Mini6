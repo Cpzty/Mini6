{
 "cells": [
  {
   "cell_type": "code",
   "execution_count": 1,
   "metadata": {},
   "outputs": [
    {
     "name": "stdout",
     "output_type": "stream",
     "text": [
      "maximo: 270 x1,x2 (12, 9)\n"
     ]
    }
   ],
   "source": [
    "def task1():\n",
    "    fun = 0\n",
    "    vals = (0,0)\n",
    "    for i in range(31):\n",
    "        for j in range(31):\n",
    "            if(i+ 2* j >30):\n",
    "                continue\n",
    "            temp = 15 * i + 30 * j +4 * i * j - (2 * i ** 2) - (4 * j **2)\n",
    "            if temp > fun:\n",
    "                 fun = temp\n",
    "                 vals = (i,j)\n",
    "    return fun, vals\n",
    "\n",
    "maximo, x1x2 = task1()\n",
    "\n",
    "print(\"maximo: {0} x1,x2: {1}\".format(maximo, x1x2))"
   ]
  },
  {
   "cell_type": "code",
   "execution_count": 2,
   "metadata": {},
   "outputs": [
    {
     "name": "stdout",
     "output_type": "stream",
     "text": [
      "maximo: 36 x1,x2 (2, 6)\n"
     ]
    }
   ],
   "source": [
    "def task2():\n",
    "    fun = 0\n",
    "    vals = (0,0)\n",
    "    for i in range(19):\n",
    "        for j in range(19):\n",
    "            if(i > 4 or 2 * j > 12 or 3 * i + 2 * j > 18):\n",
    "                continue\n",
    "            temp = 3 * i + 5 * j\n",
    "            if temp > fun:\n",
    "                 fun = temp\n",
    "                 vals = (i,j)\n",
    "    return fun, vals\n",
    "\n",
    "maximo, x1x2 = task2()\n",
    "\n",
    "print(\"maximo: {0} x1,x2: {1}\".format(maximo, x1x2))\n"
   ]
  },
  {
   "cell_type": "code",
   "execution_count": 3,
   "metadata": {},
   "outputs": [
    {
     "name": "stdout",
     "output_type": "stream",
     "text": [
      "maximo: 10 x1,x2: (1, 1)\n"
     ]
    }
   ],
   "source": [
    "def task3():\n",
    "    fun = 0\n",
    "    vals = (0,0)\n",
    "    for i in range(7):\n",
    "        for j in range(7):\n",
    "            if(3 * i + 2 * j > 6):\n",
    "                continue\n",
    "            temp = 5 * i - i ** 2 + 8 * j - 2 * j ** 2\n",
    "            if temp > fun:\n",
    "                 fun = temp\n",
    "                 vals = (i,j)\n",
    "    return fun, vals\n",
    "\n",
    "maximo, x1x2 = task3()\n",
    "\n",
    "print(\"maximo: {0} x1,x2: {1}\".format(maximo, x1x2))"
   ]
  }
 ],
 "metadata": {
  "kernelspec": {
   "display_name": "Python 3",
   "language": "python",
   "name": "python3"
  },
  "language_info": {
   "codemirror_mode": {
    "name": "ipython",
    "version": 3
   },
   "file_extension": ".py",
   "mimetype": "text/x-python",
   "name": "python",
   "nbconvert_exporter": "python",
   "pygments_lexer": "ipython3",
   "version": "3.7.4"
  }
 },
 "nbformat": 4,
 "nbformat_minor": 2
}
